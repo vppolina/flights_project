{
 "cells": [
  {
   "cell_type": "code",
   "execution_count": 58,
   "metadata": {},
   "outputs": [],
   "source": [
    "import psycopg2"
   ]
  },
  {
   "cell_type": "code",
   "execution_count": 88,
   "metadata": {},
   "outputs": [],
   "source": [
    "import json\n",
    "from dateutil import parser\n",
    "import time\n",
    "import os\n",
    "import subprocess\n",
    "import pandas as pd\n",
    "\n",
    "\n",
    "\n",
    "import requests\n",
    "response = requests.get(\"https://opensky-network.org/api/states/all\")\n",
    "raw_data = json.loads(response.text)\n",
    "data = raw_data['states']"
   ]
  },
  {
   "cell_type": "code",
   "execution_count": 73,
   "metadata": {},
   "outputs": [],
   "source": [
    "#predefined functions to insert the data\n",
    "def connect(icao24, callsign, origin_country, time_position, last_contact, longitude, latitude, baro_altitude, on_ground, velocity, true_track, vertical_rate, sensors, geo_altitude, squawk, spi, position_source):\n",
    "    \n",
    "    con = psycopg2.connect(database=\"postgres\", user=\"polina@opensky\", password=\"Bigdata2019\", host=\"opensky.postgres.database.azure.com\", port=\"5432\")\n",
    "    cursor = con.cursor()\n",
    "    query = \"INSERT INTO flights_all (icao24, callsign, origin_country, time_position, last_contact, longitude, latitude, baro_altitude, on_ground, velocity, true_track, vertical_rate, sensors, geo_altitude, squawk, spi, position_source, retrieved_at) VALUES (%s, %s, %s, %s, %s, %s, %s, %s, %s, %s, %s, %s, %s, %s, %s, %s, %s, current_timestamp)\"\n",
    "    cursor.execute(query, (icao24, callsign, origin_country, time_position, last_contact, longitude, latitude, baro_altitude, on_ground, velocity, true_track, vertical_rate, sensors, geo_altitude, squawk, spi, position_source))\n",
    "    con.commit()\n",
    "    \n",
    "    cursor.close()\n",
    "    con.close()\n",
    "    return"
   ]
  },
  {
   "cell_type": "code",
   "execution_count": null,
   "metadata": {},
   "outputs": [],
   "source": [
    "def airline_codes(icao, airline, callsign, country):\n",
    "    \n",
    "    con = psycopg2.connect(database=\"postgres\", user=\"polina@opensky\", password=\"Bigdata2019\", host=\"opensky.postgres.database.azure.com\", port=\"5432\")\n",
    "    cursor = con.cursor()\n",
    "    query = \"INSERT INTO airline_codes (icao, airline, callsign, country) VALUES (%s, %s, %s, %s)\"\n",
    "    cursor.execute(query, (icao, airline, callsign, country))\n",
    "    con.commit()\n",
    "    \n",
    "    cursor.close()\n",
    "    con.close()\n",
    "    return"
   ]
  },
  {
   "cell_type": "code",
   "execution_count": null,
   "metadata": {},
   "outputs": [],
   "source": [
    "def airline_crashes(operator, place, country):\n",
    "    \n",
    "    con = psycopg2.connect(database=\"postgres\", user=\"polina@opensky\", password=\"Bigdata2019\", host=\"opensky.postgres.database.azure.com\", port=\"5432\")\n",
    "    cursor = con.cursor()\n",
    "    query = \"INSERT INTO airline_crashes (operator, place, country) VALUES (%s, %s, %s)\"\n",
    "    cursor.execute(query, (operator, place, country))\n",
    "    con.commit()\n",
    "    \n",
    "    cursor.close()\n",
    "    con.close()\n",
    "    return"
   ]
  },
  {
   "cell_type": "code",
   "execution_count": null,
   "metadata": {},
   "outputs": [],
   "source": [
    "def delete():\n",
    "    con = psycopg2.connect(database=\"postgres\", user=\"polina@opensky\", password=\"Bigdata2019\", host=\"opensky.postgres.database.azure.com\", port=\"5432\")\n",
    "    cursor = con.cursor()\n",
    "    query2 = \"with flights as (select callsign from states where on_ground = true) delete from states where id in (select id from states s inner join flights f on f.callsign = s.callsign) or callsign ilike ''\"\n",
    "    cursor.execute(query2)\n",
    "    con.commit()\n",
    "    \n",
    "    cursor.close()\n",
    "    con.close()\n",
    "    return"
   ]
  },
  {
   "cell_type": "code",
   "execution_count": 89,
   "metadata": {},
   "outputs": [],
   "source": [
    "def insert(data):\n",
    "    for d in range(len(data)):\n",
    "        if (data[d][2] == 'Germany' or data[d][2] == 'Ukraine' or data[d][2] == 'Moldova' or data[d][2] == 'Kazakhstan'):\n",
    "            icao24 = data[d][0]\n",
    "            callsign = data[d][1]\n",
    "            origin_country = data[d][2]\n",
    "            time_position = data[d][3]\n",
    "            last_contact = data[d][4]\n",
    "            longitude = data[d][5]\n",
    "            latitude = data[d][6]\n",
    "            baro_altitude = data[d][7]\n",
    "            on_ground = data[d][8]\n",
    "            velocity = data[d][9]\n",
    "            true_track = data[d][10]\n",
    "            vertical_rate = data[d][11]\n",
    "            sensors = data[d][12]\n",
    "            geo_altitude = data[d][13]\n",
    "            squawk = data[d][14]\n",
    "            spi = data[d][15]\n",
    "            position_source = data[d][16]\n",
    "            print(origin_country)\n",
    "        else: continue\n",
    "\n",
    "        connect(icao24, callsign, origin_country, time_position, last_contact, longitude, latitude, baro_altitude, on_ground, velocity, true_track, vertical_rate, sensors, geo_altitude, squawk, spi, position_source)\n",
    "        "
   ]
  },
  {
   "cell_type": "code",
   "execution_count": null,
   "metadata": {},
   "outputs": [],
   "source": [
    "insert(data)"
   ]
  },
  {
   "cell_type": "code",
   "execution_count": 18,
   "metadata": {},
   "outputs": [],
   "source": [
    "#saving data to the Data Frame\n",
    "data = pd.read_csv(\"airport_codes.csv\", sep=';')"
   ]
  },
  {
   "cell_type": "code",
   "execution_count": null,
   "metadata": {},
   "outputs": [],
   "source": [
    "#iterating through data \n",
    "for index, row in data.iterrows():\n",
    "    icao = row[0]\n",
    "    airline = row[1]\n",
    "    callsign = row[2]\n",
    "    country = row[3]\n",
    "    \n",
    "    airline_codes(icao, airline, callsign, country)"
   ]
  },
  {
   "cell_type": "code",
   "execution_count": 36,
   "metadata": {},
   "outputs": [],
   "source": [
    "crashes = pd.read_csv(\"airline_crashes.csv\", sep=';')"
   ]
  },
  {
   "cell_type": "code",
   "execution_count": null,
   "metadata": {},
   "outputs": [],
   "source": [
    "#splitting the Location column\n",
    "new = crashes.Location.str.split(\", \",expand=True)\n",
    "crashes[\"Place\"]= new[0] \n",
    "crashes[\"Country\"]= new[1] "
   ]
  },
  {
   "cell_type": "code",
   "execution_count": null,
   "metadata": {},
   "outputs": [],
   "source": [
    "#deleting existing Location column\n",
    "crashes.drop(columns =[\"Location\"], inplace = True) "
   ]
  },
  {
   "cell_type": "code",
   "execution_count": null,
   "metadata": {},
   "outputs": [],
   "source": [
    "#replacing missing values\n",
    "crashes.replace('NaN', None)"
   ]
  },
  {
   "cell_type": "code",
   "execution_count": null,
   "metadata": {},
   "outputs": [],
   "source": [
    "#iterating through Data Frame\n",
    "for index, row in crashes.iterrows():\n",
    "    operator = row[0]\n",
    "    place = row[1]\n",
    "    country = row[2]\n",
    "    \n",
    "    airline_crashes(operator, place, country)"
   ]
  }
 ],
 "metadata": {
  "kernelspec": {
   "display_name": "Python 3",
   "language": "python",
   "name": "python3"
  },
  "language_info": {
   "codemirror_mode": {
    "name": "ipython",
    "version": 3
   },
   "file_extension": ".py",
   "mimetype": "text/x-python",
   "name": "python",
   "nbconvert_exporter": "python",
   "pygments_lexer": "ipython3",
   "version": "3.7.1"
  }
 },
 "nbformat": 4,
 "nbformat_minor": 2
}
